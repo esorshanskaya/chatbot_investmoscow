{
 "cells": [
  {
   "cell_type": "code",
   "execution_count": 1,
   "id": "1651d68b-b937-4a67-bf82-dfa69ac60fd2",
   "metadata": {},
   "outputs": [
    {
     "name": "stderr",
     "output_type": "stream",
     "text": [
      "C:\\Users\\Admin\\miniconda3\\lib\\site-packages\\pandas\\core\\arrays\\masked.py:60: UserWarning: Pandas requires version '1.3.6' or newer of 'bottleneck' (version '1.3.5' currently installed).\n",
      "  from pandas.core import (\n"
     ]
    },
    {
     "data": {
      "text/plain": [
       "True"
      ]
     },
     "execution_count": 1,
     "metadata": {},
     "output_type": "execute_result"
    }
   ],
   "source": [
    "import sys\n",
    "sys.path.append('dialog_manager//')\n",
    "import gradio as gr\n",
    "from DialogNodes import *\n",
    "from DialogManager import *\n",
    "from params import *\n",
    "from MaintenanceAssistant import prompt_dict\n",
    "import pandas as pd\n",
    "from GigaChat import GigaChat\n",
    "import regex as re\n",
    "import tqdm\n",
    "import json\n",
    "import pprint\n",
    "import chromadb\n",
    "import os\n",
    "import dotenv\n",
    "import copy\n",
    "\n",
    "dotenv.load_dotenv()"
   ]
  },
  {
   "cell_type": "code",
   "execution_count": 5,
   "id": "7856b7de-2d0d-4997-8acd-217ac35983ce",
   "metadata": {},
   "outputs": [],
   "source": [
    "import config_chat_bot_auth, config_chat_bot_guest"
   ]
  },
  {
   "cell_type": "code",
   "execution_count": 6,
   "id": "10ffd763-bee7-47c5-82c9-b659f4e6ee83",
   "metadata": {},
   "outputs": [
    {
     "name": "stdout",
     "output_type": "stream",
     "text": [
      "New iam token was generated\n",
      "New iam token was generated\n"
     ]
    }
   ],
   "source": [
    "auth_dialog_manager = config_chat_bot_auth.get_dialog_manager()\n",
    "guest_dialog_manager = config_chat_bot_guest.get_dialog_manager()"
   ]
  },
  {
   "cell_type": "code",
   "execution_count": 7,
   "id": "2bee0755-da53-4843-8e88-de225d69d004",
   "metadata": {},
   "outputs": [
    {
     "data": {
      "text/plain": [
       "<DialogManager.DialogSession at 0x29e20502c50>"
      ]
     },
     "execution_count": 7,
     "metadata": {},
     "output_type": "execute_result"
    }
   ],
   "source": [
    "guest_dialog_manager"
   ]
  },
  {
   "cell_type": "code",
   "execution_count": null,
   "id": "fea4f20d-94d6-4c33-a622-a8d874c4d627",
   "metadata": {},
   "outputs": [],
   "source": []
  }
 ],
 "metadata": {
  "kernelspec": {
   "display_name": "Python 3 (ipykernel)",
   "language": "python",
   "name": "python3"
  },
  "language_info": {
   "codemirror_mode": {
    "name": "ipython",
    "version": 3
   },
   "file_extension": ".py",
   "mimetype": "text/x-python",
   "name": "python",
   "nbconvert_exporter": "python",
   "pygments_lexer": "ipython3",
   "version": "3.10.10"
  }
 },
 "nbformat": 4,
 "nbformat_minor": 5
}
