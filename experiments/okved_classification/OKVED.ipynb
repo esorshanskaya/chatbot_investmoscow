{
 "cells": [
  {
   "cell_type": "code",
   "execution_count": 12,
   "id": "a63cf926-7016-4bcf-bba2-11c90f861546",
   "metadata": {},
   "outputs": [],
   "source": [
    "import pandas as pd\n",
    "import time\n",
    "import tqdm\n",
    "import json\n",
    "import os\n",
    "\n",
    "pd.set_option('display.max_columns', 100)\n",
    "pd.set_option('display.max_rows', 400)"
   ]
  },
  {
   "cell_type": "code",
   "execution_count": 2,
   "id": "03cf81bb-948c-412c-bcaa-5d212dda1cdf",
   "metadata": {},
   "outputs": [
    {
     "name": "stderr",
     "output_type": "stream",
     "text": [
      "C:\\Users\\Admin\\miniconda3\\lib\\site-packages\\openpyxl\\worksheet\\header_footer.py:48: UserWarning: Cannot parse header or footer so it will be ignored\n",
      "  warn(\"\"\"Cannot parse header or footer so it will be ignored\"\"\")\n"
     ]
    }
   ],
   "source": [
    "# Полный справочник\n",
    "df = pd.read_excel('okved2.xlsx', header = 2)\n",
    "df = df[~df['Код'].str.contains('.', regex=False)]\n",
    "df = df[df['Код'].str.contains('\\d')]"
   ]
  },
  {
   "cell_type": "markdown",
   "id": "800d026c",
   "metadata": {},
   "source": [
    "## Get actual codes"
   ]
  },
  {
   "cell_type": "code",
   "execution_count": 3,
   "id": "fe0dda00",
   "metadata": {},
   "outputs": [],
   "source": [
    "df_support = pd.read_excel('../../raw_data/Региональные меры поддержки Москва.xlsx')\n",
    "df_land = pd.read_excel('../../raw_data/Помещения и сооружения.xlsx')\n",
    "df_acc = pd.read_excel('../../raw_data/ОЭЗ и технопарки.xlsx')"
   ]
  },
  {
   "cell_type": "code",
   "execution_count": 4,
   "id": "411d61c0",
   "metadata": {},
   "outputs": [],
   "source": [
    "okved_actual = []\n",
    "\n",
    "for i in df_land['Перечень видов экономической деятельности, возможных к реализации на площадке']\\\n",
    "            .str.split(';').apply(lambda x: [i.split(' ')[0] for i in x]).values:\n",
    "    okved_actual += i\n",
    "    \n",
    "for i in df_acc['Список отраслей'].str.split(';').apply(lambda x: [i.split(' ')[0] for i in x]).values:\n",
    "    okved_actual += i\n",
    "\n",
    "for i in df_support['ОКВЭД'].str.split(';').apply(lambda x: [i.split(' ')[0] for i in x]).values:\n",
    "    okved_actual += i\n"
   ]
  },
  {
   "cell_type": "code",
   "execution_count": 5,
   "id": "38ea1419",
   "metadata": {},
   "outputs": [
    {
     "data": {
      "text/plain": [
       "88"
      ]
     },
     "execution_count": 5,
     "metadata": {},
     "output_type": "execute_result"
    }
   ],
   "source": [
    "okved_actual = sorted(set(okved_actual))\n",
    "okved_actual = [i.replace('-', '') for i in okved_actual if i not in ('', 'Нет')]\n",
    "len(okved_actual)"
   ]
  },
  {
   "cell_type": "code",
   "execution_count": 6,
   "id": "b9a7082b",
   "metadata": {},
   "outputs": [],
   "source": [
    "df = df[df['Код'].isin(okved_actual)]\n",
    "df['Комментарий'] = df['Комментарий'].fillna('')\n",
    "df['Комментарий'] = df['Комментарий'].str.split('Эта группировка не включает').str[0]\n",
    "df['Комментарий'] = df['Комментарий'].str.replace('^', '', regex=False)\n",
    "df = df.reset_index(drop=True)"
   ]
  },
  {
   "cell_type": "markdown",
   "id": "4068e90c",
   "metadata": {},
   "source": [
    "# Gen desr"
   ]
  },
  {
   "cell_type": "markdown",
   "id": "f644523d",
   "metadata": {},
   "source": [
    "### Create collection"
   ]
  },
  {
   "cell_type": "code",
   "execution_count": 7,
   "id": "46404ac1",
   "metadata": {},
   "outputs": [
    {
     "data": {
      "text/plain": [
       "True"
      ]
     },
     "execution_count": 7,
     "metadata": {},
     "output_type": "execute_result"
    }
   ],
   "source": [
    "import chromadb\n",
    "import sys\n",
    "sys.path.append('../../')\n",
    "from GigaChat import GigaChat\n",
    "import dotenv\n",
    "dotenv.load_dotenv()"
   ]
  },
  {
   "cell_type": "code",
   "execution_count": 13,
   "id": "4754dcde",
   "metadata": {},
   "outputs": [],
   "source": [
    "chroma_client = chromadb.Client()\n",
    "collection = chroma_client.get_or_create_collection(name=\"okved_collection\")"
   ]
  },
  {
   "cell_type": "markdown",
   "id": "1a1dfc4f-2416-4b80-b347-564cd61a378c",
   "metadata": {},
   "source": [
    "### Create additional descroptions"
   ]
  },
  {
   "cell_type": "code",
   "execution_count": 15,
   "id": "b8112fef",
   "metadata": {},
   "outputs": [
    {
     "name": "stdout",
     "output_type": "stream",
     "text": [
      "New iam token was generated\n"
     ]
    }
   ],
   "source": [
    "# create YandexGPT instance\n",
    "auth_token = os.environ.get(\"AUTH_TOKEN\")\n",
    "\n",
    "gc = GigaChat(auth_token = auth_token)\n"
   ]
  },
  {
   "cell_type": "code",
   "execution_count": 11,
   "id": "5b2f3afc",
   "metadata": {},
   "outputs": [
    {
     "name": "stderr",
     "output_type": "stream",
     "text": [
      "  0%|                                                                                           | 0/88 [00:01<?, ?it/s]\n"
     ]
    },
    {
     "ename": "KeyboardInterrupt",
     "evalue": "",
     "output_type": "error",
     "traceback": [
      "\u001b[1;31m---------------------------------------------------------------------------\u001b[0m",
      "\u001b[1;31mKeyboardInterrupt\u001b[0m                         Traceback (most recent call last)",
      "Cell \u001b[1;32mIn[11], line 16\u001b[0m\n\u001b[0;32m     14\u001b[0m         \u001b[38;5;28;01melse\u001b[39;00m:\n\u001b[0;32m     15\u001b[0m             desc \u001b[38;5;241m=\u001b[39m orig_desc\n\u001b[1;32m---> 16\u001b[0m         \u001b[43mtime\u001b[49m\u001b[38;5;241;43m.\u001b[39;49m\u001b[43msleep\u001b[49m\u001b[43m(\u001b[49m\u001b[38;5;241;43m0.1\u001b[39;49m\u001b[43m)\u001b[49m\n\u001b[0;32m     17\u001b[0m         df_embs\u001b[38;5;241m.\u001b[39mappend({\u001b[38;5;124m'\u001b[39m\u001b[38;5;124mcode\u001b[39m\u001b[38;5;124m'\u001b[39m: i[\u001b[38;5;124m'\u001b[39m\u001b[38;5;124mКод\u001b[39m\u001b[38;5;124m'\u001b[39m],\n\u001b[0;32m     18\u001b[0m                         \u001b[38;5;124m'\u001b[39m\u001b[38;5;124mtext\u001b[39m\u001b[38;5;124m'\u001b[39m: desc,\n\u001b[0;32m     19\u001b[0m                         \u001b[38;5;124m'\u001b[39m\u001b[38;5;124mtext_type\u001b[39m\u001b[38;5;124m'\u001b[39m: prompt_id,\n\u001b[0;32m     20\u001b[0m                         })\n\u001b[0;32m     23\u001b[0m df_embs \u001b[38;5;241m=\u001b[39m pd\u001b[38;5;241m.\u001b[39mDataFrame(df_embs)\n",
      "\u001b[1;31mKeyboardInterrupt\u001b[0m: "
     ]
    }
   ],
   "source": [
    "prompts = {'system_prompt_1': 'Перефразируй указанный текст, раскрой его смысл и укажи дополнительные детали',\n",
    "           'system_prompt_2': 'Раскрой смысл данной экономической деятельность - опиши и приведи примеры',\n",
    "           'system_prompt_3': 'Сделай расширенное описание по указанному тексту с экономической деятельность',\n",
    "           'original': None\n",
    "          }\n",
    "\n",
    "df_embs = []\n",
    "\n",
    "for _, i in tqdm.tqdm(df.iterrows(), total = len(df)):\n",
    "    for prompt_id, system_prompt in prompts.items():\n",
    "        if prompt_id != 'original':\n",
    "            orig_desc = i['Наименование'] + '\\n' + i['Комментарий']\n",
    "            desc = gc.generate(system_prompt=system_prompt, user_prompt=orig_desc, model='GigaChat')\n",
    "        else:\n",
    "            desc = orig_desc\n",
    "        time.sleep(0.1)\n",
    "        df_embs.append({'code': i['Код'],\n",
    "                        'text': desc,\n",
    "                        'text_type': prompt_id,\n",
    "                        })\n",
    "        \n",
    "        \n",
    "df_embs = pd.DataFrame(df_embs)\n",
    "df_embs.to_hdf('df_okved.h5', key='df')"
   ]
  },
  {
   "cell_type": "code",
   "execution_count": 79,
   "id": "5aca2af3-b7ea-4c2d-986c-c8d386af7d1f",
   "metadata": {},
   "outputs": [
    {
     "name": "stderr",
     "output_type": "stream",
     "text": [
      " 39%|███████████████████████████████▌                                                | 139/352 [01:40<01:57,  1.82it/s]"
     ]
    },
    {
     "name": "stdout",
     "output_type": "stream",
     "text": [
      "<module 'requests' from 'C:\\\\Users\\\\Admin\\\\miniconda3\\\\lib\\\\site-packages\\\\requests\\\\__init__.py'>\n",
      "<Response [413]>\n",
      "138\n"
     ]
    },
    {
     "name": "stderr",
     "output_type": "stream",
     "text": [
      "100%|████████████████████████████████████████████████████████████████████████████████| 352/352 [04:14<00:00,  1.38it/s]\n"
     ]
    }
   ],
   "source": [
    "if 'emb' not in df_embs.columns:\n",
    "    df_embs['emb'] = None\n",
    "    \n",
    "embs_vals = {}\n",
    "for n, i in tqdm.tqdm(df_embs[df_embs['emb'].isna()].iterrows(), total = len(df_embs)):\n",
    "    try:\n",
    "        embs_vals[n] = gc.get_embedding(i['text'])[0]\n",
    "        time.sleep(0.05)\n",
    "    except:\n",
    "        print(n)\n"
   ]
  },
  {
   "cell_type": "code",
   "execution_count": 102,
   "id": "260e096e-0c56-4631-9d8b-9902807daad1",
   "metadata": {},
   "outputs": [],
   "source": [
    "df_embs.loc[list(embs_vals.keys()), 'emb'] = pd.Series(list(embs_vals.values()), index = list(embs_vals.keys()), )"
   ]
  },
  {
   "cell_type": "code",
   "execution_count": 106,
   "id": "cc673fd8-5d0e-47a2-a3e5-1dd5dcda0adf",
   "metadata": {},
   "outputs": [],
   "source": [
    "df_embs = df_embs[df_embs['emb'].notna()]"
   ]
  },
  {
   "cell_type": "code",
   "execution_count": 107,
   "id": "a0c78916-8cd9-4046-9180-5b34f4cd0b3c",
   "metadata": {},
   "outputs": [
    {
     "data": {
      "text/plain": [
       "(351, 4)"
      ]
     },
     "execution_count": 107,
     "metadata": {},
     "output_type": "execute_result"
    }
   ],
   "source": [
    "df_embs.shape"
   ]
  },
  {
   "cell_type": "code",
   "execution_count": 108,
   "id": "1368210c-9ff5-47ad-9a46-724079ddd72e",
   "metadata": {},
   "outputs": [],
   "source": [
    "df_embs.to_hdf('df_okved_with_embs.h5', key='df')"
   ]
  },
  {
   "cell_type": "markdown",
   "id": "e7a03116-9c20-467f-b63b-d0ce411787d2",
   "metadata": {},
   "source": [
    "### Add Data to collection"
   ]
  },
  {
   "cell_type": "code",
   "execution_count": 14,
   "id": "aff54ad8-327d-4512-9e62-a44723fd9d87",
   "metadata": {},
   "outputs": [
    {
     "data": {
      "text/plain": [
       "[]"
      ]
     },
     "execution_count": 14,
     "metadata": {},
     "output_type": "execute_result"
    }
   ],
   "source": [
    "df_embs"
   ]
  },
  {
   "cell_type": "code",
   "execution_count": 117,
   "id": "e6f0c439",
   "metadata": {},
   "outputs": [],
   "source": [
    "for n, i in df_embs.iterrows():\n",
    "    collection.add(documents=[i['text']],\n",
    "                            ids=[str(n).zfill(3)],\n",
    "                            embeddings=[i['emb']],\n",
    "                            metadatas=[{\"code\": i[\"code\"]}])"
   ]
  },
  {
   "cell_type": "code",
   "execution_count": 120,
   "id": "4c6c6551",
   "metadata": {},
   "outputs": [
    {
     "name": "stdout",
     "output_type": "stream",
     "text": [
      "New iam token was generated\n",
      "{'ids': [['218', '216', '131', '221', '219', '130', '128', '222', '217', '197']], 'distances': [[283.0162048339844, 284.30560302734375, 285.7375793457031, 286.0849609375, 288.27740478515625, 288.30206298828125, 289.2582092285156, 289.5389404296875, 290.24847412109375, 296.23626708984375]], 'metadatas': [[{'code': '62'}, {'code': '62'}, {'code': '35'}, {'code': '63'}, {'code': '62'}, {'code': '35'}, {'code': '35'}, {'code': '63'}, {'code': '62'}, {'code': '56'}]], 'embeddings': None, 'documents': [['Эта группа включает в себя широкий спектр услуг, связанных с разработкой и поддержкой компьютерного программного обеспечения. Сюда входят такие виды деятельности, как проведение экспертиз в области информационных технологий, разработка, изменение и поддержка программного обеспечения, планирование и проектирование компьютерных систем, объединяющих компьютерное оборудование, программное обеспечение и коммуникационные технологии. Также сюда входит интерактивное управление и эксплуатация заказчиком компьютерной системы и/или средств обработки данных. Кроме того, эта группа включает другие профессиональные и технические виды деятельности, связанные с использованием компьютеров.', 'Эта группа включает в себя создание программного обеспечения для компьютеров, консультации по этому вопросу и другие связанные услуги. Сюда входят такие вещи, как тестирование и поддержка программного обеспечения, планирование и проектирование компьютерных систем, которые включают в себя оборудование, программы и технологии связи. Также сюда входит помощь в управлении и эксплуатации компьютерных систем и других устройств для обработки данных. Кроме того, эта группа включает в себя различные профессиональные и технические задачи, выполняемые с помощью компьютеров.', 'Обеспечение электрической энергией, газом и паром; кондиционирование воздуха\\n', 'Эта экономическая деятельность связана с разработкой, созданием, обслуживанием и использованием информационных технологий. Она включает в себя работу с базами данных, создание и поддержку веб-сайтов, а также предоставление различных услуг в области информационных технологий. Примеры такой деятельности могут быть следующими:\\n\\n1. Разработка программного обеспечения: это может включать создание новых приложений или улучшение существующих для компьютеров, мобильных устройств или других электронных устройств.\\n\\n2. Создание и поддержка веб-сайтов: это может включать разработку дизайна сайта, написание кода для его работы, оптимизацию для поисковых систем и управление контентом.\\n\\n3. Хостинг: это предоставление места на сервере для размещения веб-сайтов или других видов информации.\\n\\n4. Обработка данных: это может включать сбор, анализ и хранение больших объемов информации, например, для маркетинговых целей или статистического анализа.\\n\\n5. Предоставление информации: это может включать поиск и предоставление информации через интернет-порталы или другие сервисы.\\n\\nВсе эти виды деятельности требуют использования современных технологий и навыков программирования, управления данными и разработки веб-сайтов.', 'Разработка компьютерного программного обеспечения, консультационные услуги в данной области и другие сопутствующие услуги\\nЭта группировка включает:- проведение экспертизы в области информационных технологий: разработку, изменения, апробацию и поддержку программного обеспечения, планирование и проектирование компьютерных систем, объединяющих компьютерное оборудование, программное обеспечение и коммуникационные технологии;- интерактивное управление и эксплуатацию заказчиком компьютерной системы и/или средств обработки данных;- прочие профессиональные и технические виды деятельности с использованием компьютеров', 'Компания занимается обеспечением электроэнергией, газом и паром. Это означает, что она предоставляет услуги по производству, передаче и распределению этих видов энергии. Также компания может заниматься установкой и обслуживанием систем кондиционирования воздуха.', 'Предоставление электроэнергии, газа и пара, а также охлаждение воздуха.', 'Эта группа включает в себя различные виды деятельности, связанные с информационными технологиями. Сюда входят услуги, предоставляемые через интернет-порталы поиска, такие как поисковая оптимизация (SEO), создание и обновление баз данных, а также хостинг - предоставление услуг для размещения веб-сайтов на серверах. Кроме того, сюда входит \"прочая деятельность\", которая включает в себя предоставление различных видов информации, например, новостей, финансовых отчетов или аналитических данных.', 'Эта экономическая деятельность связана с разработкой, продажей и поддержкой компьютерного программного обеспечения. Она также включает предоставление консультационных услуг в области информационных технологий, таких как разработка, изменение, апробация и поддержка программного обеспечения, планирование и проектирование компьютерных систем, интерактивное управление и эксплуатация компьютерных систем и других средств обработки данных. Кроме того, данная деятельность может включать другие профессиональные и технические виды деятельности, связанные с использованием компьютеров.', 'Эта экономическая деятельность связана с предоставлением продуктов питания и напитков. Она включает услуги по приготовлению и продаже готовых к употреблению продуктов питания и напитков в различных местах, таких как рестораны, кафе, закусочные, предприятия быстрого питания и т.д.\\n\\nПримеры предприятий, которые могут быть включены в эту деятельность:\\n- Рестораны, где подают блюда разных кухонь мира.\\n- Кафе, где можно заказать кофе, чай, десерты и другие легкие закуски.\\n- Закусочные, где предлагают фастфуд (гамбургеры, хот-доги, картофель фри и т.д.).\\n- Предприятия быстрого питания, такие как МакДональдс, KFC, Burger King и другие.\\n- Пиццерии, где можно заказать пиццу на вынос или доставку.\\n- Кофейни, где продают свежесваренный кофе и выпечку.\\n- Бары, где подают алкогольные и безалкогольные напитки.\\n- Кондитерские, где можно купить торты, пирожные, печенье и другие сладости.']], 'uris': None, 'data': None}\n"
     ]
    }
   ],
   "source": [
    "results = collection.query(\n",
    "    query_embeddings=gc.get_embedding(\"Я разрабатываю сервисные приложения\"),\n",
    "    n_results=10\n",
    ")\n",
    "print(results)"
   ]
  },
  {
   "cell_type": "code",
   "execution_count": null,
   "id": "eeda21c3",
   "metadata": {},
   "outputs": [],
   "source": []
  }
 ],
 "metadata": {
  "kernelspec": {
   "display_name": "Python 3 (ipykernel)",
   "language": "python",
   "name": "python3"
  },
  "language_info": {
   "codemirror_mode": {
    "name": "ipython",
    "version": 3
   },
   "file_extension": ".py",
   "mimetype": "text/x-python",
   "name": "python",
   "nbconvert_exporter": "python",
   "pygments_lexer": "ipython3",
   "version": "3.10.10"
  }
 },
 "nbformat": 4,
 "nbformat_minor": 5
}
