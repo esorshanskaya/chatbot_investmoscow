{
 "cells": [
  {
   "cell_type": "code",
   "execution_count": 1,
   "id": "19f841ce-5c16-4a88-b08b-fceb50b87fdd",
   "metadata": {},
   "outputs": [
    {
     "name": "stderr",
     "output_type": "stream",
     "text": [
      "C:\\Users\\Admin\\miniconda3\\lib\\site-packages\\pandas\\core\\arrays\\masked.py:60: UserWarning: Pandas requires version '1.3.6' or newer of 'bottleneck' (version '1.3.5' currently installed).\n",
      "  from pandas.core import (\n"
     ]
    },
    {
     "data": {
      "text/plain": [
       "True"
      ]
     },
     "execution_count": 1,
     "metadata": {},
     "output_type": "execute_result"
    }
   ],
   "source": [
    "from DialogNodes import *\n",
    "from params import *\n",
    "import pandas as pd\n",
    "import sys\n",
    "sys.path.append('../')\n",
    "from GigaChat import GigaChat\n",
    "import regex as re\n",
    "import tqdm\n",
    "import json\n",
    "import pprint\n",
    "import chromadb\n",
    "import os\n",
    "import dotenv\n",
    "import copy\n",
    "\n",
    "dotenv.load_dotenv()"
   ]
  },
  {
   "cell_type": "code",
   "execution_count": 2,
   "id": "109cc8f3-b1c1-47f8-8629-413b32b1163a",
   "metadata": {},
   "outputs": [
    {
     "name": "stdout",
     "output_type": "stream",
     "text": [
      "New iam token was generated\n"
     ]
    }
   ],
   "source": [
    "auth_token = os.environ.get('AUTH_TOKEN')\n",
    "\n",
    "gc = GigaChat(auth_token=auth_token)\n",
    "\n",
    "chroma_client = chromadb.PersistentClient(path='../rag_db/chroma/')\n",
    "collection = chroma_client.get_or_create_collection(name=\"okved_collection\")\n"
   ]
  },
  {
   "cell_type": "code",
   "execution_count": 3,
   "id": "8eada5b2-4b60-424b-9776-4c5268af7914",
   "metadata": {},
   "outputs": [],
   "source": [
    "df_park = pd.read_excel(r'../raw_data//ОЭЗ и технопарки.xlsx')\n",
    "df_land = pd.read_excel(r'../raw_data/_Помещения и сооружения_clean.xlsx')\n",
    "\n",
    "\n",
    "park_list = ['Наименование объекта', 'Налог на прибыль', 'Как стать резидентом', ]\n",
    "df_park = df_park.rename(columns = {\"Наименование объекта\": \"Название технопарка\"})\n",
    "\n",
    "df_park['Название технопарка'] = df_park['Название технопарка'].str.strip('\\n').str.strip()\n",
    "df_land['Название площадки'] = df_land['Название площадки'].str.replace('\\n', '')\n",
    "park_list = ['Название технопарка', 'Налог на прибыль', 'Как стать резидентом', ]\n",
    "df_park = df_park[df_park['Название технопарка'].isin(df_land['Название технопарка'])]\n",
    "\n",
    "df_land = df_land.merge(df_park, on = ['Название технопарка'])\n",
    "df_land['Ссылка на форму подачи заявки'] = df_land['Ссылка на форму подачи заявки'].str.strip('\\n').str.strip()\n",
    "mandatory_land_list = [\n",
    "            'Перечень видов экономической деятельности, возможных к реализации на площадке',\n",
    "            'Стоимость, руб./год за кв.м.',\n",
    "            'Водоснабжение Наличие (Да/Нет)',\n",
    "            'Газоснабжение Наличие (Да/Нет)',\n",
    "            'Электроснабжение Наличие (Да/Нет)',\n",
    "            'Теплоснабжение Наличие (Да/Нет)',\n",
    "            'Вывоз ТКО Наличие (Да/Нет)',\n",
    "            'Наличие МАИП',\n",
    "            'Стоимость объекта, руб. (покупки или месячной аренды)', \n",
    "            'Свободная площадь здания, сооружения, помещения, кв. м',\n",
    "]\n",
    "\n",
    "info_land_list = [\n",
    "            'Название площадки',\n",
    "            'Объект инфраструктуры поддержки',\n",
    "            'Название технопарка',\n",
    "            # 'Адрес объекта',\n",
    "            'Ссылка на форму подачи заявки',\n",
    "            # 'Сайт',\n",
    "            'Описание процедуры подачи заявки',\n",
    "            'Стоимость, руб./год за кв.м.', \n",
    "            'Налог на прибыль', \n",
    "            'Как стать резидентом'\n",
    "]\n",
    "\n",
    "df_land = df_land[info_land_list + mandatory_land_list]\n"
   ]
  },
  {
   "cell_type": "code",
   "execution_count": 27,
   "id": "2beb0c41-7ad6-4bee-815b-dd760fc55fab",
   "metadata": {},
   "outputs": [],
   "source": [
    "\n",
    "system_prompt_casual_info = \"\"\"\n",
    "Использую информацию из контекста ниже чтобы ответить на вопрос пользователя\n",
    "Контекст:\n",
    "Для регистрации на Портале необходимо в верхнем правом углу страницы Портала нажать (скриншот), далее следует заполнить соответствующие поля: тип пользователя (укажите, кем вы являетесь: юридическим лицом, ИП, физическим лицом), введите персональные данные, установите пароль. \n",
    "В случае возникновения дополнительных вопросов готовы переключить Вас на соответствующего специалиста.\n",
    "Для того, чтобы найти интересующие торги, необходимо на Инвестиционном Портале investmoscow.ru (инвестмоскоу точка ру) зайти в раздел «Имущество от города», далее в «Расширенном поиске» сформировать критерии поиска интересующих торгов: цену, тип объекта, вид торгов, площадь помещения, предпочтительный район или станцию метро. \n",
    "В случае возникновения дополнительных вопросов, готовы переключить Вас на соответствующего специалиста.\n",
    "Сейчас на Портале работает более 100 онлайн-сервисов. С их помощью можно подать заявки на получение льгот, направить на рассмотрение концессионную инициативу, записаться на осмотр городской недвижимости, выставленной на торги, задать вопрос или сообщить в Правительство столицы о проблеме, связанной с инвестированием и многое другое. Найти сервисы можно на Инвестиционном портале investmoscow.ru (инвестмоскоу точка ру) в разделе «Каталог сервисов». Ссылка на него доступна на главной странице сайта вверху. \n",
    "Сроки рассмотрения обращений на линию прямых обращений не более 14 дней для физических лиц и не более 30 дней для юридических лиц. Также обращение в орган исполнительной власти города Москвы можно направить через онлайн-сервис «Московский инвестор». Средний срок ответа составляет 10 рабочих дней. \n",
    "\n",
    "\n",
    "Используй информацию из контекста чтобы ответить на вопрос пользователя:\n",
    "Налоги для всех особенных экономических зон и всех Технопарков\n",
    "-налог на прибыль – 2%\n",
    "-налог на имущество – 2%\n",
    "-транспортный налог – 0%\n",
    "-таможенные пошлины – 0%\n",
    "\n",
    "Заявка на аренду помещения в технопарке подаётся в электронном виде при помощи Инвестиционного портала города Москвы.\n",
    "Выберите заинтересовавший Вас технопарк и направьте заявку.\n",
    "Срок рассмотрения заявки физических лиц не превышает 14 календарных дней.\n",
    "Срок рассмотрения заявки юридических лиц и индивидуальных предпринимателей не превышает 30 календарных дней.\"\"\"\n",
    "\n",
    "system_prompt_service_classification = \\\n",
    "\"\"\"\n",
    "Тебе необходимо классифицировать обращение пользователя по одному из 5 вариантов. Первые 4 относятся к вопросам про бизнес, всё остальное нужно относить к 5 классу\n",
    "Пользователи отправлят запросы для чат-бота сайта департамента инвестиций Москвы\n",
    "Классы обращений:\n",
    "1) Подобрать площадку для бизнеса, пользователь хочет узнать про варианты аренды. В этот класс входят вопросы про аренду и помещения.\n",
    "2) Подобрать меру поддержки для бизнеса - пользователь хочет узнать про гранты, сопровождения, субсидии и т.д. В этот класс не входят вопросы про площадки и помещения.\n",
    "3) Общая информация по порталу - как регистрироваться, чем мы занимаемся, какие есть услуги и т.д.\n",
    "4) Другое. Если вопрос или текст не связан с бизнес активностью или определить невозможно - использовать этот вариант\n",
    "Укажи номер класса\n",
    "Второй строкой объясни почему запрос пользователя относится к указанному классу.\n",
    "\"\"\"\n",
    "template_not_found = 'Мне не удалось найти необходимую Вам информацию. Пожалуйста, воспользуйтесь официальным сайтом: https://investmoscow.ru/'\n",
    "\n",
    "\n",
    "system_prompt_land_classification = \\\n",
    "\"\"\"Тебе необходимо классифицировать обращение пользователя по одному из 3 вариантов.\n",
    "Классы обращений:\n",
    "1) Пользователь просит подобрать варианты аренды помещений или технопарков под его бизнес, пользователь не знает про конкретные варианты\n",
    "2) Пользователь спрашивает про конкретную программу аренды помещений или технопарки.\n",
    "3) Другое или невозможно определить\n",
    "Примеры ответов:\n",
    "2 - Технопарк Москвы\n",
    "3 - невозможно определить\n",
    "\"\"\"\n",
    "\n",
    "system_prompt_land_ner = \"\"\"Тебе необходимо извлечь информацию в формате JSON по следующим параметрам:\n",
    "    Тип деятельности бизнеса\n",
    "    Если информации нет, не добавляй в JSON файл\n",
    "    Пример 1 - {\"Тип деятельности бизнеса\": \"Разработка приложений\"}\n",
    "    Пример 2 - {\"Тип деятельности бизнеса\": \"Разведение пчел\"}\n",
    "    Не отвечай на вопрос, вытащи информацию в формате JSON, не пиши ничего больше будет ошибка парсинга\"\"\"\n",
    "\n",
    "\n",
    "df_land_instruct_context = str(df_land[['Название площадки', 'Название технопарка', 'Ссылка на форму подачи заявки', \n",
    "         'Свободная площадь здания, сооружения, помещения, кв. м']].to_dict(orient='records'))\n",
    "\n",
    "system_prompt_land_instruct = f\"\"\"\n",
    "Используй информацию из контекста чтобы ответить на вопрос пользователя:\n",
    "Налоги для всех особенных экономических зон и всех Технопарков\n",
    "-налог на прибыль – 2%\n",
    "-налог на имущество – 2%\n",
    "-транспортный налог – 0%\n",
    "-таможенные пошлины – 0%\n",
    "\n",
    "Таблица с возможными вариантами аренды площадок для бизнеса: {df_land_instruct_context}\n",
    "\"\"\""
   ]
  },
  {
   "cell_type": "code",
   "execution_count": 43,
   "id": "c11a1ef5-61c2-459e-ac41-a3ecc43797ce",
   "metadata": {},
   "outputs": [],
   "source": [
    "# Первичная ветка\n",
    "# Классификация вопроса пользователя\n",
    "\n",
    "init_node = {\"id\": \"init_node\",\n",
    "             \"type\": LLM_Classifier, \n",
    "             \"system_prompt\": system_prompt_service_classification,\n",
    "             \"default_class\": 4,\n",
    "             \"key\": \"last_msg\",\n",
    "             \"description\":  \"Основной классификатор диалога\",\n",
    "             \"childs\": {}}\n",
    "\n",
    "# =============================================================================\n",
    "# 3 Ветка с общей инфой\n",
    "instruct_causal_info = {\"id\": \"init_node\",\n",
    "                 \"type\": LLM_Generator, \n",
    "                 \"system_prompt\": system_prompt_casual_info,\n",
    "                 \"key\": \"last_msg\",\n",
    "                 \"description\":  \"Основной классификатор диалога\",\n",
    "                 \"childs\": {}}\n",
    "init_node['childs'][3] = instruct_causal_info\n",
    "\n",
    "\n",
    "# =============================================================================\n",
    "\n",
    "\n",
    "# 4 Короткая ветка с заглушкой\n",
    "dummy_not_found = {\"id\": \"dummy_not_found\",\n",
    "                   \"type\": LLM_Generator, \n",
    "                   \"required_answer\": False, \n",
    "                   \"key\": \"last_msg\",\n",
    "                   \"dummy_answer\": template_not_found,\n",
    "                   \"description\":  \"Dummy заглушка основного классификатора\",\n",
    "                   \"childs\": {}}\n",
    "init_node['childs'][init_node['default_class']] = dummy_not_found\n",
    "\n",
    "\n",
    "# =============================================================================\n",
    "\n",
    "\n",
    "# 1 Ветка Land\n",
    "land_request_classification = {\"id\": \"land_request_classification\",\n",
    "                               \"key\": \"last_request\",\n",
    "                               \"type\": LLM_Classifier, \n",
    "                               \"key\": \"last_msg\",\n",
    "                               \"system_prompt\": system_prompt_land_classification,\n",
    "                               \"default_class\": 3,\n",
    "                               \"description\": \"Классификатор земельных вопросов\",\n",
    "                               \"childs\": {}}\n",
    "init_node['childs'][1] = land_request_classification\n",
    "\n",
    "# 1.1 - Пользователь хочет подобрать меры поддержки\n",
    "# 1.1.1 Вычленение сущностей, если пользователь просит подобрать землю\n",
    "ner_land_params = {\"id\": \"ner_land_params\",\n",
    "                   \"type\": LLM_Extractor, \n",
    "                   \"key\": \"last_msg\",\n",
    "                   \"system_prompt\": system_prompt_land_ner,\n",
    "                   \"entity_list\": [\"Тип деятельности бизнеса\"],\n",
    "                   \"description\": \"NER для подбора земли\",\n",
    "                   \"childs\": {}}\n",
    "ner_land_params_2_iter = {\"id\": \"ner_land_params_2_iter\",\n",
    "                   \"type\": ner_land_params['type'], \n",
    "                   \"key\": \"last_msg\",\n",
    "                   \"system_prompt\": ner_land_params['system_prompt'],\n",
    "                   \"entity_list\": ner_land_params['entity_list'],\n",
    "                   \"description\": ner_land_params['description'],\n",
    "                   \"childs\": {}}\n",
    "land_request_classification['childs'][1] = ner_land_params\n",
    "\n",
    "# 1.1.2 Если пользователь указал не всю информацию\n",
    "dummy_get_more_info_land = {\"id\": \"dummy_get_more_info_land\",\n",
    "                           \"type\": LLM_Generator, \n",
    "                           \"key\": \"last_msg\",\n",
    "                           \"dummy_answer\": 'Пожалуйста, Опишите ваш бизнес для более корректного поиска',\n",
    "                           \"description\":  \"Dummy заглушка - необходимо больше информации\",\n",
    "                           \"childs\": {}}\n",
    "\n",
    "# вторая итерция - переспросить еще раз\n",
    "ner_land_params['childs'][status_extractor_not_found] = dummy_get_more_info_land\n",
    "# 1.1.2.1 - Узнать ОКВЕД по RAG\n",
    "rag_okved_ok = {\"id\": \"rag_okved_ok\",\n",
    "                   \"type\": RAG_Classifier, \n",
    "                   \"collection\": collection,\n",
    "                   \"target_field\": 'code',\n",
    "                   \"top_n\": 3,\n",
    "                   \"description\": 'RAG классификатор ОКВЭД',\n",
    "                   \"key\": \"Тип деятельности бизнеса\",\n",
    "                   \"childs\": {}}\n",
    "ner_land_params['childs'][status_extractor_ok] = rag_okved_ok\n",
    "\n",
    "rag_okved_not_found = {\"id\": \"rag_okved_not_found\",\n",
    "                       \"type\": RAG_Classifier,\n",
    "                       \"collection\": collection,\n",
    "                       \"target_field\": 'code',\n",
    "                       \"top_n\": 3,\n",
    "                       \"description\": 'RAG классификатор ОКВЭД',\n",
    "                       \"key\": \"last_msg\",\n",
    "                       \"childs\": {}}\n",
    "dummy_get_more_info_land['childs'][default_child_key] = ner_land_params_2_iter\n",
    "ner_land_params_2_iter['childs'][status_extractor_not_found] = rag_okved_not_found\n",
    "ner_land_params_2_iter['childs'][status_extractor_ok] = rag_okved_ok\n",
    "\n",
    "rag_okved_not_found = {\"id\": \"rag_okved_not_found\",\n",
    "                       \"type\": RAG_Classifier,\n",
    "                       \"collection\": collection,\n",
    "                       \"target_field\": 'code',\n",
    "                       \"top_n\": 3,\n",
    "                       \"description\": 'RAG классификатор ОКВЭД',\n",
    "                       \"key\": \"last_msg\",\n",
    "                       \"childs\": {}}\n",
    "\n",
    "dim_search_land = {\"id\": \"dim_search_land\",\n",
    "                   \"type\": Dim_Search_Land,\n",
    "                   \"dim\": df_land.copy(),\n",
    "                   \"description\": \"Генерация ответа по справочным данным\",\n",
    "                   \"childs\": {}}\n",
    "\n",
    "rag_okved_ok['childs'][default_child_key] = dim_search_land\n",
    "rag_okved_not_found['childs'][default_child_key] = dim_search_land\n",
    "\n",
    "\n",
    "# 1.2 Пользователь хочет узнать про конкретный парк\n",
    "land_instruct = { \"id\": \"land_instruct\",\n",
    "                   \"type\": LLM_Generator, \n",
    "                   \"key\": \"last_msg\",\n",
    "                   \"system_prompt\": system_prompt_land_instruct,\n",
    "                   \"description\": \"Выдача информации по Технопаркам\",\n",
    "                   \"childs\": {}}\n",
    "land_request_classification['childs'][2] = land_instruct\n",
    "\n",
    "\n",
    "\n",
    "# 1.3 Непоятно что пользователь хочет \n",
    "land_request_classification['childs'][3] = dummy_not_found\n",
    "\n",
    "# =============================================================================\n",
    "# 2 - Вторая дамми ветка\n",
    "dummy_flow_2 = {\"id\": \"dummy_flow_2\",\n",
    "                           \"type\": LLM_Generator, \n",
    "                           \"key\": \"last_msg\",\n",
    "                           \"dummy_answer\": 'Здесь кое-что скоро будет!!',\n",
    "                           \"description\":  \"Dummy заглушка\",\n",
    "                           \"childs\": {}}\n",
    "init_node['childs'][2] = dummy_flow_2\n",
    "\n",
    "\n",
    "# Создать дерево диалога\n",
    "dialog_tree = get_dialog_tree(init_node, gc=gc)"
   ]
  },
  {
   "cell_type": "code",
   "execution_count": 44,
   "id": "797e5f95",
   "metadata": {},
   "outputs": [],
   "source": []
  },
  {
   "cell_type": "code",
   "execution_count": 45,
   "id": "09e4372b",
   "metadata": {},
   "outputs": [
    {
     "name": "stdout",
     "output_type": "stream",
     "text": [
      "Основной классификатор диалога: {'req_class': 3, 'child_node': Основной классификатор диалога}\n",
      "Основной классификатор диалога: {'req_answer': 'Для регистрации на сайте необходимо выполнить следующие шаги:\\n1. В верхнем правом углу страницы Портала найдите кнопку \"Регистрация\" и нажмите на неё.\\n2. Заполните соответствующие поля: укажите тип пользователя (юридическое лицо, ИП, физическое лицо), введите свои персональные данные и установите пароль.\\n3. После заполнения всех полей нажмите кнопку \"Зарегистрироваться\".\\nЕсли у вас возникнут дополнительные вопросы, вы можете обратиться к специалисту, который поможет вам с регистрацией.', 'child_node': None}\n"
     ]
    }
   ],
   "source": [
    "user_msg = \"Где я могу арендовать землю для моего бизнеса?\"\n",
    "ans = ds.send_msg(user_msg)"
   ]
  },
  {
   "cell_type": "code",
   "execution_count": 47,
   "id": "270674ce",
   "metadata": {},
   "outputs": [
    {
     "data": {
      "text/plain": [
       "'Для регистрации на сайте необходимо выполнить следующие шаги:\\n1. В верхнем правом углу страницы Портала найдите кнопку \"Регистрация\" и нажмите на неё.\\n2. Заполните соответствующие поля: укажите тип пользователя (юридическое лицо, ИП, физическое лицо), введите свои персональные данные и установите пароль.\\n3. После заполнения всех полей нажмите кнопку \"Зарегистрироваться\".\\nЕсли у вас возникнут дополнительные вопросы, вы можете обратиться к специалисту, который поможет вам с регистрацией.'"
      ]
     },
     "execution_count": 47,
     "metadata": {},
     "output_type": "execute_result"
    }
   ],
   "source": [
    "ans"
   ]
  },
  {
   "cell_type": "code",
   "execution_count": 22,
   "id": "7d6bd8e1",
   "metadata": {},
   "outputs": [
    {
     "name": "stdout",
     "output_type": "stream",
     "text": [
      "NER для подбора земли: {'json_entites': {'Тип деятельности бизнеса': 'Производство корма для котов'}, 'child_node': RAG классификатор ОКВЭД, 'status': 0, 'unparsed_enities': []}\n",
      "RAG классификатор ОКВЭД: {'json_entites': {'Тип деятельности бизнеса': ['10', '12', '21']}, 'child_node': Генерация ответа по справочным данным}\n",
      "Генерация ответа по справочным данным: {'req_answer': 'Возможно вас заинтересуют следующие варианты: \"\\n1): Производственное помещение на территории технопарка \"Мосмедпарк\" ; Стоимость, руб./год за кв.м.: 50; Ссылка на форму подачи заявки: https://investmoscow.ru/catalog/10\\n\\nСрок рассмотрения заявки физических лиц не превышает 14 календарных дней.\\nСрок рассмотрения заявки юридических лиц и индивидуальных предпринимателей не превышает 30 календарных дней.\\n', 'child_node': None}\n"
     ]
    }
   ],
   "source": [
    "user_msg_2 = \"Я занимаюсь производством корма для котов\"\n",
    "\n",
    "ans_2 = ds.send_msg(user_msg_2)"
   ]
  },
  {
   "cell_type": "code",
   "execution_count": 23,
   "id": "e76a33d5",
   "metadata": {},
   "outputs": [
    {
     "data": {
      "text/plain": [
       "'Возможно вас заинтересуют следующие варианты: \"\\n1): Производственное помещение на территории технопарка \"Мосмедпарк\" ; Стоимость, руб./год за кв.м.: 50; Ссылка на форму подачи заявки: https://investmoscow.ru/catalog/10\\n\\nСрок рассмотрения заявки физических лиц не превышает 14 календарных дней.\\nСрок рассмотрения заявки юридических лиц и индивидуальных предпринимателей не превышает 30 календарных дней.\\n'"
      ]
     },
     "execution_count": 23,
     "metadata": {},
     "output_type": "execute_result"
    }
   ],
   "source": [
    "ans_2"
   ]
  },
  {
   "cell_type": "code",
   "execution_count": null,
   "id": "7d148c58",
   "metadata": {},
   "outputs": [],
   "source": []
  },
  {
   "cell_type": "code",
   "execution_count": null,
   "id": "3f0eb5ed",
   "metadata": {},
   "outputs": [],
   "source": []
  },
  {
   "cell_type": "code",
   "execution_count": null,
   "id": "700864ec",
   "metadata": {},
   "outputs": [],
   "source": []
  },
  {
   "cell_type": "code",
   "execution_count": null,
   "id": "e61a0ffb",
   "metadata": {},
   "outputs": [],
   "source": [
    "user_msg_2 = \"Привет! подскажи программы поддержки для разработчиков\"\n",
    "\n"
   ]
  },
  {
   "cell_type": "code",
   "execution_count": 29,
   "id": "102d3c56",
   "metadata": {},
   "outputs": [
    {
     "ename": "NameError",
     "evalue": "name 'msd' is not defined",
     "output_type": "error",
     "traceback": [
      "\u001b[1;31m---------------------------------------------------------------------------\u001b[0m",
      "\u001b[1;31mNameError\u001b[0m                                 Traceback (most recent call last)",
      "Cell \u001b[1;32mIn[29], line 1\u001b[0m\n\u001b[1;32m----> 1\u001b[0m \u001b[43mds\u001b[49m\u001b[38;5;241;43m.\u001b[39;49m\u001b[43msend_msg\u001b[49m\u001b[43m(\u001b[49m\u001b[43muser_msg\u001b[49m\u001b[43m)\u001b[49m\n",
      "Cell \u001b[1;32mIn[28], line 11\u001b[0m, in \u001b[0;36mDialogSession.send_msg\u001b[1;34m(self, user_msg)\u001b[0m\n\u001b[0;32m      8\u001b[0m \u001b[38;5;28;01mdef\u001b[39;00m \u001b[38;5;21msend_msg\u001b[39m(\u001b[38;5;28mself\u001b[39m, user_msg):\n\u001b[0;32m      9\u001b[0m     node \u001b[38;5;241m=\u001b[39m \u001b[38;5;28mself\u001b[39m\u001b[38;5;241m.\u001b[39mlast_state\n\u001b[1;32m---> 11\u001b[0m     \u001b[38;5;28mself\u001b[39m\u001b[38;5;241m.\u001b[39mhistory\u001b[38;5;241m.\u001b[39mappend({\u001b[38;5;124m\"\u001b[39m\u001b[38;5;124muser_type\u001b[39m\u001b[38;5;124m\"\u001b[39m: \u001b[38;5;124m\"\u001b[39m\u001b[38;5;124muser\u001b[39m\u001b[38;5;124m\"\u001b[39m, \u001b[38;5;124m\"\u001b[39m\u001b[38;5;124mmsg\u001b[39m\u001b[38;5;124m\"\u001b[39m: \u001b[43mmsd\u001b[49m})\n\u001b[0;32m     12\u001b[0m     \u001b[38;5;28mself\u001b[39m\u001b[38;5;241m.\u001b[39mget_last_n_message()\n\u001b[0;32m     13\u001b[0m     req_answer \u001b[38;5;241m=\u001b[39m \u001b[38;5;124m'\u001b[39m\u001b[38;5;124m'\u001b[39m\n",
      "\u001b[1;31mNameError\u001b[0m: name 'msd' is not defined"
     ]
    }
   ],
   "source": []
  },
  {
   "cell_type": "code",
   "execution_count": 16,
   "id": "167cc3f5",
   "metadata": {},
   "outputs": [
    {
     "name": "stdout",
     "output_type": "stream",
     "text": [
      "Основной классификатор диалога: {'req_class': 1, 'child_node': Классификатор земельных вопросов}\n",
      "Классификатор земельных вопросов: {'req_class': 1, 'child_node': NER для подбора земли}\n",
      "NER для подбора земли: {'json_entites': {'Где арендовать землю для бизнеса': 'Информация отсутствует'}, 'child_node': Dummy заглушка - необходимо больше информации, 'status': 1, 'unparsed_enities': ['Тип деятельности бизнеса']}\n",
      "Dummy заглушка - необходимо больше информации: {'req_answer': 'Пожалуйста, Опишите ваш бизнес для более корректного поиска', 'child_node': NER для подбора земли}\n",
      "Пожалуйста, Опишите ваш бизнес для более корректного поиска\n"
     ]
    }
   ],
   "source": [
    "# Ветка 2 + \n",
    "# Ветка 3 + \n",
    "# 1.1\n",
    "# Ветка 1.1.1 + \n",
    "# Ветка 1.1.2 \n",
    "# Ветка 1.2 + \n",
    "\n",
    "history = []\n",
    "data = {}\n",
    "history.append({'user': 'user_id', 'msg': user_msg})\n",
    "last_state = get_dialog_tree(init_node, gc=gc)\n",
    "\n",
    "\n",
    "node = last_state\n",
    "data['last_msg'] = user_msg\n",
    "req_answer = ''\n",
    "while node is not None and req_answer=='':    \n",
    "    node_type = type(node)\n",
    "    node_data = node.run(data)\n",
    "    print(f\"{node}: {node_data}\")\n",
    "    \n",
    "    if node_type == LLM_Generator:\n",
    "        req_answer = node_data['req_answer']\n",
    "    if node_type == LLM_Extractor:\n",
    "        for k, v in node_data['json_entites'].items():\n",
    "            data[k] = v\n",
    "    if node_type == RAG_Classifier:\n",
    "        for k, v in node_data['json_entites'].items():\n",
    "            data[k] = v\n",
    "    \n",
    "    node = node_data['child_node']\n",
    "    last_state = node\n",
    "    \n",
    "\n",
    "print(req_answer)"
   ]
  },
  {
   "cell_type": "code",
   "execution_count": 17,
   "id": "56d60624",
   "metadata": {},
   "outputs": [
    {
     "name": "stdout",
     "output_type": "stream",
     "text": [
      "NER для подбора земли: {'json_entites': {'Где арендовать землю для бизнеса': 'Информация отсутствует'}, 'child_node': RAG классификатор ОКВЭД, 'status': 1, 'unparsed_enities': ['Тип деятельности бизнеса']}\n",
      "RAG классификатор ОКВЭД: {'json_entites': {'last_msg': ['77', '68', '55']}, 'child_node': None}\n"
     ]
    }
   ],
   "source": [
    "node = last_state\n",
    "req_answer = \"\"\n",
    "user_msg = \"Где я могу арендовать землю для моего бизнеса для производства корма для котов?\"\n",
    "while node is not None and req_answer=='':    \n",
    "    node_type = type(node)\n",
    "    node_data = node.run(data)\n",
    "    print(f\"{node}: {node_data}\")\n",
    "    \n",
    "    if node_type == LLM_Generator:\n",
    "        req_answer = node_data['req_answer']\n",
    "    if node_type == LLM_Extractor:\n",
    "        for k, v in node_data['json_entites'].items():\n",
    "            data[k] = v\n",
    "    if node_type == RAG_Classifier:\n",
    "        for k, v in node_data['json_entites'].items():\n",
    "            data[k] = v\n",
    "    \n",
    "    node = node_data['child_node']\n",
    "    last_state = node\n"
   ]
  },
  {
   "cell_type": "code",
   "execution_count": null,
   "id": "385e716a",
   "metadata": {},
   "outputs": [],
   "source": []
  },
  {
   "cell_type": "code",
   "execution_count": null,
   "id": "b8b1c82e",
   "metadata": {},
   "outputs": [],
   "source": []
  }
 ],
 "metadata": {
  "kernelspec": {
   "display_name": "Python 3 (ipykernel)",
   "language": "python",
   "name": "python3"
  },
  "language_info": {
   "codemirror_mode": {
    "name": "ipython",
    "version": 3
   },
   "file_extension": ".py",
   "mimetype": "text/x-python",
   "name": "python",
   "nbconvert_exporter": "python",
   "pygments_lexer": "ipython3",
   "version": "3.10.10"
  }
 },
 "nbformat": 4,
 "nbformat_minor": 5
}
